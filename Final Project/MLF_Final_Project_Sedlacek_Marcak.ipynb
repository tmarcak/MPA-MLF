{
  "nbformat": 4,
  "nbformat_minor": 0,
  "metadata": {
    "colab": {
      "provenance": []
    },
    "kernelspec": {
      "name": "python3",
      "display_name": "Python 3"
    },
    "language_info": {
      "name": "python"
    },
    "gpuClass": "standard",
    "accelerator": "GPU"
  },
  "cells": [
    {
      "cell_type": "markdown",
      "source": [
        "# **MLF Final Project**\n",
        "### Matyáš Sedláček, Tomáš Marčák"
      ],
      "metadata": {
        "id": "Vcu_XHyhA_g-"
      }
    },
    {
      "cell_type": "markdown",
      "source": [
        "# Import libraries"
      ],
      "metadata": {
        "id": "edLQ4yrfF6BH"
      }
    },
    {
      "cell_type": "code",
      "execution_count": 1,
      "metadata": {
        "id": "gtkVMk78A-xE"
      },
      "outputs": [],
      "source": [
        "import numpy as np\n",
        "import pandas as pd\n",
        "import matplotlib\n",
        "import matplotlib.pyplot as plt\n",
        "\n",
        "from sklearn.model_selection import train_test_split\n",
        "from keras.utils import to_categorical\n",
        "from sklearn.preprocessing import RobustScaler\n",
        "\n",
        "from keras.models import Sequential\n",
        "from keras.layers import Dense, Flatten, Dropout \n",
        "\n",
        "from keras.optimizers import SGD, Adam, Adamax, SGD, RMSprop\n",
        "from scipy.signal import decimate\n",
        "from sklearn.preprocessing import RobustScaler, MinMaxScaler\n",
        "\n",
        "from google.colab import drive \n",
        "import os\n",
        "import re"
      ]
    },
    {
      "cell_type": "markdown",
      "source": [
        "# Data import"
      ],
      "metadata": {
        "id": "JZSM68LeMsdq"
      }
    },
    {
      "cell_type": "code",
      "source": [
        "def sorted_alphanumeric(data):\n",
        "    convert = lambda text: int(text) if text.isdigit() else text.lower()\n",
        "    alphanum_key = lambda key: [ convert(c) for c in re.split('([0-9]+)', key) ] \n",
        "    return sorted(data, key=alphanum_key)"
      ],
      "metadata": {
        "id": "jKy1TT6rZ67n"
      },
      "execution_count": 2,
      "outputs": []
    },
    {
      "cell_type": "markdown",
      "source": [
        "Organizing the 2D data of each *.csv file into 3D matrix, where each \"slice\" along the x-axis represents one measurement. "
      ],
      "metadata": {
        "id": "LByNpVNiZ8PC"
      }
    },
    {
      "cell_type": "code",
      "source": [
        "drive.mount('/content/drive')\n",
        "\n",
        "#trainCSVlist = sorted_alphanumeric(os.listdir('/content/drive/MyDrive/MLFfinal/Train/CSV'))\n",
        "#testCSVlist = sorted_alphanumeric(os.listdir('/content/drive/MyDrive/MLFfinal/Test/CSV'))\n",
        "\n",
        "#trainDF = np.empty((1,45,52))\n",
        "#testDF = np.empty((1,45,52))\n",
        "\n",
        "#for trainFile in trainCSVlist:\n",
        "#            trainDFtemp = np.genfromtxt('/content/drive/MyDrive/MLFfinal/Train/CSV/' + trainFile, delimiter=\",\", dtype=float)\n",
        "#            trainDFtemp = trainDFtemp.reshape((1, trainDFtemp.shape[0], trainDFtemp.shape[1]))\n",
        "#            trainDF = np.concatenate([trainDF,trainDFtemp], axis=0)\n",
        "\n",
        "#for testFile in testCSVlist:\n",
        "#            testDFtemp = np.genfromtxt('/content/drive/MyDrive/MLFfinal/Test/CSV/' + testFile, delimiter=\",\", dtype=float)\n",
        "#            testDFtemp = testDFtemp.reshape((1, testDFtemp.shape[0],testDFtemp.shape[1]))\n",
        "#            testDF = np.concatenate([testDF,testDFtemp], axis=0)\n",
        "\n",
        "#example = np.genfromtxt('/content/drive/MyDrive/MLFfinal/Train/CSV/img_3256.csv', delimiter=',')\n",
        "\n",
        "#plt.imshow(example)"
      ],
      "metadata": {
        "id": "Gz0tNZKUMr5W",
        "colab": {
          "base_uri": "https://localhost:8080/"
        },
        "outputId": "b0bd2a40-98ee-45af-96e3-02abd0a1cc4e"
      },
      "execution_count": 3,
      "outputs": [
        {
          "output_type": "stream",
          "name": "stdout",
          "text": [
            "Drive already mounted at /content/drive; to attempt to forcibly remount, call drive.mount(\"/content/drive\", force_remount=True).\n"
          ]
        }
      ]
    },
    {
      "cell_type": "markdown",
      "source": [
        "The formed Numpy 3D arrays are saved in a compressed format, so that we don't have to start all over each time we run the code"
      ],
      "metadata": {
        "id": "IuMgqp54d0ed"
      }
    },
    {
      "cell_type": "code",
      "source": [
        "# save to google drive in a compressed format\n",
        "\n",
        "#np.savez_compressed('/content/drive/MyDrive/MLFfinal/Test/extractedTestcomp.npz',testDF)\n",
        "#np.savez_compressed('/content/drive/MyDrive/MLFfinal/Train/extractedTraincomp.npz',trainDF)"
      ],
      "metadata": {
        "id": "DLOA4Eg7upaL"
      },
      "execution_count": 4,
      "outputs": []
    },
    {
      "cell_type": "markdown",
      "source": [
        "Load the compressed data from drive and store in raw form for further processing."
      ],
      "metadata": {
        "id": "j8eEq5_sfEmd"
      }
    },
    {
      "cell_type": "code",
      "source": [
        "# load from drive\n",
        "\n",
        "x_test_raw = np.load('/content/drive/MyDrive/MLFfinal/Test/extractedTestcomp.npz')\n",
        "x_train_raw = np.load('/content/drive/MyDrive/MLFfinal/Train/extractedTraincomp.npz')\n",
        "x_test_raw = x_test_raw['arr_0']\n",
        "x_train_raw = x_train_raw['arr_0']\n",
        "\n",
        "y_train_raw = pd.read_csv('/content/drive/MyDrive/MLFfinal/y_train.csv')"
      ],
      "metadata": {
        "id": "xkfSt1lPvA3G"
      },
      "execution_count": 5,
      "outputs": []
    },
    {
      "cell_type": "markdown",
      "source": [
        "# Examination"
      ],
      "metadata": {
        "id": "toWb7jWuJeCU"
      }
    },
    {
      "cell_type": "markdown",
      "source": [
        "First we look for NaN values"
      ],
      "metadata": {
        "id": "HmujQvumooQr"
      }
    },
    {
      "cell_type": "code",
      "source": [
        "x_train_raw[0,:,:]\n",
        "NaNs = np.argwhere(np.isnan(x_train_raw))\n",
        "# we see NaNs as the first element of each slice, then we see, that first slice is all zeros, we also found other NaNs, but only in the first row of each slice\n",
        "print(x_train_raw)\n",
        "print(NaNs)\n",
        "\n",
        "# for demonstrating the random NaNs in the first row\n",
        "x_train_NaN = x_train_raw[1:, :, 1:] \n",
        "randomNaNs = np.argwhere(np.isnan(x_train_NaN))\n",
        "print(x_train_NaN)\n",
        "print(randomNaNs)"
      ],
      "metadata": {
        "colab": {
          "base_uri": "https://localhost:8080/"
        },
        "id": "jbOCxxpDJgpO",
        "outputId": "0fe0ba69-9dea-4d98-9236-161c47e5de25"
      },
      "execution_count": 6,
      "outputs": [
        {
          "output_type": "stream",
          "name": "stdout",
          "text": [
            "[[[6.91361572e-310 6.91361572e-310 6.97254530e-316 ... 5.72938864e-313\n",
            "   6.91325009e-310 6.91329654e-310]\n",
            "  [0.00000000e+000 6.91329224e-310 4.03179200e-313 ... 6.91329224e-310\n",
            "   6.91329224e-310 6.91329224e-310]\n",
            "  [6.91329222e-310 6.91329222e-310 6.91329224e-310 ... 6.91329224e-310\n",
            "   6.91329222e-310 6.91329224e-310]\n",
            "  ...\n",
            "  [6.91329231e-310 6.91329231e-310 6.91329231e-310 ... 6.91329231e-310\n",
            "   6.91329231e-310 6.91329230e-310]\n",
            "  [6.91329231e-310 6.91329231e-310 6.91329231e-310 ... 6.91329231e-310\n",
            "   6.91329231e-310 6.91329231e-310]\n",
            "  [6.91329231e-310 6.91329231e-310 6.91329231e-310 ... 6.91329231e-310\n",
            "   6.91329231e-310 6.91329231e-310]]\n",
            "\n",
            " [[            nan 3.81570000e+001 5.24250000e+001 ... 2.15880000e+001\n",
            "   3.47170000e+001 6.56760000e+001]\n",
            "  [0.00000000e+000 4.08090000e+001 2.57510000e+001 ... 1.04780000e+002\n",
            "   5.14860000e+001 7.38660000e+000]\n",
            "  [1.00000000e+000 3.57940000e+001 2.45600000e+001 ... 7.93660000e+001\n",
            "   5.66940000e+001 6.31450000e+001]\n",
            "  ...\n",
            "  [4.10000000e+001 6.24860000e+001 7.48480000e+001 ... 2.33190000e+001\n",
            "   5.91340000e+001 6.44470000e+001]\n",
            "  [4.20000000e+001 1.16890000e+001 1.36030000e+001 ... 2.25910000e+001\n",
            "   4.30780000e+001 3.24510000e+001]\n",
            "  [4.30000000e+001 8.02120000e+001 2.76950000e+001 ... 6.07170000e+001\n",
            "   3.07850000e+001 8.29380000e+001]]\n",
            "\n",
            " [[            nan 2.86710000e+001 5.19410000e+001 ... 4.63730000e+001\n",
            "   1.55200000e+002 1.22750000e+002]\n",
            "  [0.00000000e+000 5.81250000e+001 2.79010000e+001 ... 9.10760000e+001\n",
            "   1.25370000e+002 2.74030000e+002]\n",
            "  [1.00000000e+000 1.54650000e+001 1.48170000e+001 ... 1.48830000e+002\n",
            "   2.08600000e+002 9.28240000e+001]\n",
            "  ...\n",
            "  [4.10000000e+001 9.99570000e+001 5.93880000e+001 ... 1.41530000e+002\n",
            "   8.04450000e+001 1.36370000e+002]\n",
            "  [4.20000000e+001 7.99270000e+001 3.45360000e+001 ... 1.03510000e+002\n",
            "   6.82920000e+001 5.33780000e+001]\n",
            "  [4.30000000e+001 6.75280000e+001 5.46560000e+001 ... 1.60520000e+002\n",
            "   5.18750000e+001 6.93420000e+001]]\n",
            "\n",
            " ...\n",
            "\n",
            " [[            nan 5.75470000e+001 6.44890000e+001 ... 7.99710000e+001\n",
            "   7.77380000e+001 9.40170000e+001]\n",
            "  [0.00000000e+000 6.66130000e+000 3.80080000e+001 ... 8.37280000e+001\n",
            "   1.41050000e+002 4.38910000e+001]\n",
            "  [1.00000000e+000 3.70020000e+001 8.85050000e+001 ... 1.62250000e+002\n",
            "   1.31230000e+002 9.32280000e+001]\n",
            "  ...\n",
            "  [4.10000000e+001 2.50680000e+001 3.93970000e+001 ... 3.38550000e+001\n",
            "   1.88630000e+002 7.74670000e+001]\n",
            "  [4.20000000e+001 6.37200000e+001 3.54100000e+001 ... 4.90360000e+001\n",
            "   6.28930000e+001 2.23510000e+002]\n",
            "  [4.30000000e+001 3.48930000e+001 3.73710000e+001 ... 1.26910000e+002\n",
            "   8.56990000e+001 1.14120000e+002]]\n",
            "\n",
            " [[            nan 8.57060000e+001 6.64500000e+001 ... 1.12920000e+002\n",
            "   3.53360000e+002 1.60170000e+002]\n",
            "  [0.00000000e+000 1.43880000e+002 1.57600000e+002 ... 1.10620000e+002\n",
            "   1.83860000e+002 2.46290000e+002]\n",
            "  [1.00000000e+000 4.61380000e+001 8.89720000e+001 ... 3.01630000e+002\n",
            "   9.50430000e+001 2.01020000e+002]\n",
            "  ...\n",
            "  [4.10000000e+001 1.52420000e+001 7.44920000e+001 ... 2.69640000e+002\n",
            "   1.46930000e+002 1.16640000e+002]\n",
            "  [4.20000000e+001 1.01320000e+002 1.00230000e+002 ... 1.97400000e+002\n",
            "   7.92900000e+001 8.76930000e+001]\n",
            "  [4.30000000e+001 1.12100000e+002 2.04990000e+002 ... 2.17610000e+002\n",
            "   2.07450000e+002 3.62890000e+002]]\n",
            "\n",
            " [[            nan 8.58510000e+001 6.98360000e+001 ... 5.70970000e+001\n",
            "   1.36090000e+002 1.55970000e+002]\n",
            "  [0.00000000e+000 3.88540000e+001 7.89730000e+001 ... 1.93230000e+002\n",
            "   1.75670000e+002 4.93410000e+001]\n",
            "  [1.00000000e+000 5.52470000e+001 8.39640000e+000 ... 1.82480000e+002\n",
            "   1.05670000e+002 1.77870000e+002]\n",
            "  ...\n",
            "  [4.10000000e+001 8.91800000e+001 1.06670000e+002 ... 5.72380000e+001\n",
            "   7.08000000e+001 6.28720000e+001]\n",
            "  [4.20000000e+001 8.95410000e+001 3.56370000e+001 ... 1.67680000e+002\n",
            "   1.79210000e+002 3.01600000e+002]\n",
            "  [4.30000000e+001 5.95600000e+001 4.72250000e+001 ... 6.17970000e+001\n",
            "   9.84100000e+001 8.34890000e+001]]]\n",
            "[[   1    0    0]\n",
            " [   2    0    0]\n",
            " [   3    0    0]\n",
            " ...\n",
            " [8277    0    0]\n",
            " [8278    0    0]\n",
            " [8279    0    0]]\n",
            "[[[ 38.157   52.425   32.337  ...  21.588   34.717   65.676 ]\n",
            "  [ 40.809   25.751   89.378  ... 104.78    51.486    7.3866]\n",
            "  [ 35.794   24.56    37.289  ...  79.366   56.694   63.145 ]\n",
            "  ...\n",
            "  [ 62.486   74.848   41.44   ...  23.319   59.134   64.447 ]\n",
            "  [ 11.689   13.603   60.658  ...  22.591   43.078   32.451 ]\n",
            "  [ 80.212   27.695   17.801  ...  60.717   30.785   82.938 ]]\n",
            "\n",
            " [[ 28.671   51.941  102.46   ...  46.373  155.2    122.75  ]\n",
            "  [ 58.125   27.901   40.66   ...  91.076  125.37   274.03  ]\n",
            "  [ 15.465   14.817   22.757  ... 148.83   208.6     92.824 ]\n",
            "  ...\n",
            "  [ 99.957   59.388   24.362  ... 141.53    80.445  136.37  ]\n",
            "  [ 79.927   34.536   21.003  ... 103.51    68.292   53.378 ]\n",
            "  [ 67.528   54.656   21.301  ... 160.52    51.875   69.342 ]]\n",
            "\n",
            " [[ 43.27   101.7     90.937  ... 118.41    37.969  343.05  ]\n",
            "  [101.01    57.239   38.612  ... 247.15   188.33   208.62  ]\n",
            "  [ 84.225   73.681   67.991  ... 236.2    189.77   230.77  ]\n",
            "  ...\n",
            "  [257.     240.14   424.12   ... 477.52   309.54   409.96  ]\n",
            "  [174.02   334.95   110.5    ... 315.16   216.14   213.63  ]\n",
            "  [454.18   367.49   131.04   ... 144.64    53.194  545.59  ]]\n",
            "\n",
            " ...\n",
            "\n",
            " [[ 57.547   64.489   44.685  ...  79.971   77.738   94.017 ]\n",
            "  [  6.6613  38.008   14.267  ...  83.728  141.05    43.891 ]\n",
            "  [ 37.002   88.505   25.616  ... 162.25   131.23    93.228 ]\n",
            "  ...\n",
            "  [ 25.068   39.397   95.251  ...  33.855  188.63    77.467 ]\n",
            "  [ 63.72    35.41    74.128  ...  49.036   62.893  223.51  ]\n",
            "  [ 34.893   37.371   29.411  ... 126.91    85.699  114.12  ]]\n",
            "\n",
            " [[ 85.706   66.45    76.679  ... 112.92   353.36   160.17  ]\n",
            "  [143.88   157.6    124.79   ... 110.62   183.86   246.29  ]\n",
            "  [ 46.138   88.972   48.169  ... 301.63    95.043  201.02  ]\n",
            "  ...\n",
            "  [ 15.242   74.492   45.407  ... 269.64   146.93   116.64  ]\n",
            "  [101.32   100.23    52.614  ... 197.4     79.29    87.693 ]\n",
            "  [112.1    204.99   130.68   ... 217.61   207.45   362.89  ]]\n",
            "\n",
            " [[ 85.851   69.836   15.085  ...  57.097  136.09   155.97  ]\n",
            "  [ 38.854   78.973   69.679  ... 193.23   175.67    49.341 ]\n",
            "  [ 55.247    8.3964  47.93   ... 182.48   105.67   177.87  ]\n",
            "  ...\n",
            "  [ 89.18   106.67    35.72   ...  57.238   70.8     62.872 ]\n",
            "  [ 89.541   35.637   71.133  ... 167.68   179.21   301.6   ]\n",
            "  [ 59.56    47.225   75.85   ...  61.797   98.41    83.489 ]]]\n",
            "[[   3    0   43]\n",
            " [  48    0   23]\n",
            " [  69    0   47]\n",
            " [ 128    0   50]\n",
            " [ 184    0    4]\n",
            " [ 208    0   40]\n",
            " [ 210    0   48]\n",
            " [ 276    0   30]\n",
            " [ 293    0   48]\n",
            " [ 430    0   30]\n",
            " [ 493    0   24]\n",
            " [ 577    0   40]\n",
            " [ 619    0   30]\n",
            " [ 641    0   45]\n",
            " [ 707    0   40]\n",
            " [ 729    0   16]\n",
            " [ 739    0   42]\n",
            " [ 743    0   10]\n",
            " [ 818    0   20]\n",
            " [ 837    0   16]\n",
            " [ 839    0   29]\n",
            " [ 948    0   37]\n",
            " [1067    0    8]\n",
            " [1115    0   26]\n",
            " [1148    0   50]\n",
            " [1172    0   31]\n",
            " [1224    0   41]\n",
            " [1256    0   28]\n",
            " [1274    0   37]\n",
            " [1289    0   11]\n",
            " [1299    0   50]\n",
            " [1314    0   10]\n",
            " [1369    0   37]\n",
            " [1371    0   49]\n",
            " [1398    0   48]\n",
            " [1443    0   45]\n",
            " [1453    0   42]\n",
            " [1455    0   25]\n",
            " [1489    0   42]\n",
            " [1527    0   40]\n",
            " [1549    0   38]\n",
            " [1567    0   39]\n",
            " [1575    0   29]\n",
            " [1634    0   47]\n",
            " [1676    0   49]\n",
            " [1741    0   41]\n",
            " [1824    0   43]\n",
            " [1841    0   39]\n",
            " [1841    0   43]\n",
            " [1851    0    9]\n",
            " [1862    0   48]\n",
            " [1865    0   44]\n",
            " [1945    0   37]\n",
            " [1950    0   17]\n",
            " [1966    0   29]\n",
            " [2063    0   48]\n",
            " [2133    0   35]\n",
            " [2140    0   36]\n",
            " [2228    0   16]\n",
            " [2247    0   15]\n",
            " [2279    0   36]\n",
            " [2281    0   36]\n",
            " [2388    0   40]\n",
            " [2398    0   19]\n",
            " [2401    0   29]\n",
            " [2420    0   30]\n",
            " [2425    0   39]\n",
            " [2443    0   13]\n",
            " [2523    0   28]\n",
            " [2533    0   45]\n",
            " [2586    0   35]\n",
            " [2593    0   50]\n",
            " [2614    0   44]\n",
            " [2620    0   47]\n",
            " [2634    0   46]\n",
            " [2704    0   22]\n",
            " [2835    0   30]\n",
            " [2862    0   47]\n",
            " [2864    0   20]\n",
            " [2883    0   16]\n",
            " [2889    0   39]\n",
            " [2894    0   46]\n",
            " [2906    0    9]\n",
            " [3006    0   40]\n",
            " [3075    0   38]\n",
            " [3182    0   50]\n",
            " [3267    0   29]\n",
            " [3352    0   42]\n",
            " [3353    0    9]\n",
            " [3397    0   39]\n",
            " [3454    0   32]\n",
            " [3503    0   38]\n",
            " [3512    0   32]\n",
            " [3519    0   34]\n",
            " [3619    0   33]\n",
            " [3634    0   43]\n",
            " [3657    0   50]\n",
            " [3668    0   26]\n",
            " [3706    0   37]\n",
            " [3733    0   50]\n",
            " [3780    0   44]\n",
            " [3791    0   39]\n",
            " [3792    0   41]\n",
            " [3798    0   37]\n",
            " [3860    0   32]\n",
            " [3879    0   18]\n",
            " [3883    0   17]\n",
            " [3943    0   40]\n",
            " [3954    0    9]\n",
            " [3990    0   42]\n",
            " [4035    0   30]\n",
            " [4048    0   38]\n",
            " [4082    0   44]\n",
            " [4276    0   29]\n",
            " [4307    0   14]\n",
            " [4404    0   43]\n",
            " [4442    0   49]\n",
            " [4450    0   27]\n",
            " [4467    0   33]\n",
            " [4537    0   24]\n",
            " [4621    0    9]\n",
            " [4623    0   26]\n",
            " [4673    0   42]\n",
            " [4696    0   49]\n",
            " [4697    0   31]\n",
            " [4715    0   13]\n",
            " [4715    0   49]\n",
            " [4776    0   40]\n",
            " [4804    0   16]\n",
            " [4811    0   41]\n",
            " [4948    0   22]\n",
            " [4958    0   47]\n",
            " [4979    0   46]\n",
            " [5036    0   38]\n",
            " [5213    0   42]\n",
            " [5269    0   35]\n",
            " [5273    0   43]\n",
            " [5336    0    9]\n",
            " [5373    0   41]\n",
            " [5431    0   16]\n",
            " [5448    0   47]\n",
            " [5467    0   26]\n",
            " [5535    0   36]\n",
            " [5538    0   15]\n",
            " [5550    0   33]\n",
            " [5550    0   46]\n",
            " [5553    0   44]\n",
            " [5575    0   49]\n",
            " [5580    0   44]\n",
            " [5609    0   43]\n",
            " [5638    0   30]\n",
            " [5664    0   37]\n",
            " [5680    0   36]\n",
            " [5743    0    7]\n",
            " [5779    0   44]\n",
            " [5813    0   31]\n",
            " [6034    0   29]\n",
            " [6080    0   50]\n",
            " [6105    0   50]\n",
            " [6172    0   43]\n",
            " [6198    0   16]\n",
            " [6229    0   37]\n",
            " [6234    0   46]\n",
            " [6237    0   39]\n",
            " [6243    0   40]\n",
            " [6275    0   36]\n",
            " [6349    0   33]\n",
            " [6461    0   46]\n",
            " [6638    0   48]\n",
            " [6673    0   19]\n",
            " [6688    0   20]\n",
            " [6704    0   50]\n",
            " [6735    0    7]\n",
            " [6802    0   20]\n",
            " [6808    0   47]\n",
            " [6832    0   36]\n",
            " [6905    0   29]\n",
            " [6953    0    9]\n",
            " [6953    0   50]\n",
            " [6954    0   27]\n",
            " [6970    0    9]\n",
            " [7034    0   44]\n",
            " [7105    0   37]\n",
            " [7144    0   25]\n",
            " [7152    0   25]\n",
            " [7259    0   47]\n",
            " [7388    0   44]\n",
            " [7399    0   39]\n",
            " [7402    0   39]\n",
            " [7581    0   50]\n",
            " [7590    0   37]\n",
            " [7637    0   41]\n",
            " [7684    0   25]\n",
            " [7787    0   49]\n",
            " [7867    0   38]\n",
            " [7921    0   31]\n",
            " [7968    0   48]\n",
            " [7977    0   46]\n",
            " [7989    0   27]\n",
            " [8067    0   28]\n",
            " [8167    0   41]\n",
            " [8215    0   15]\n",
            " [8215    0   24]\n",
            " [8236    0   23]\n",
            " [8245    0   28]\n",
            " [8246    0   41]\n",
            " [8261    0   40]]\n"
          ]
        }
      ]
    },
    {
      "cell_type": "markdown",
      "source": [
        "Second, we identify the labels and their distribution"
      ],
      "metadata": {
        "id": "iqDFDd1qov8n"
      }
    },
    {
      "cell_type": "code",
      "source": [
        "y_train_raw['target'].value_counts() #class imbalance"
      ],
      "metadata": {
        "colab": {
          "base_uri": "https://localhost:8080/"
        },
        "id": "8IKWnyKDa1Ap",
        "outputId": "aeb50800-917e-4278-f459-185398112f2d"
      },
      "execution_count": 7,
      "outputs": [
        {
          "output_type": "execute_result",
          "data": {
            "text/plain": [
              "1    3746\n",
              "3    2326\n",
              "2    2207\n",
              "Name: target, dtype: int64"
            ]
          },
          "metadata": {},
          "execution_count": 7
        }
      ]
    },
    {
      "cell_type": "markdown",
      "source": [
        "# Preprocessing"
      ],
      "metadata": {
        "id": "lm7YT0Y-Pp8J"
      }
    },
    {
      "cell_type": "markdown",
      "source": [
        "Removing the identified NaN values, the most practical approach is to discard the first row in each 2D measurement data array, that way we can preserve as large a number of data to train the model on as is possible."
      ],
      "metadata": {
        "id": "mQ1JOmQNpqyY"
      }
    },
    {
      "cell_type": "code",
      "source": [
        "# removing empty slice and index column, as well as first row, since it contains NaN values, from x_train and test data\n",
        "\n",
        "x_train = x_train_raw[1:, 1:, 1:]\n",
        "x_test = x_test_raw[1:, 1:, 1:]"
      ],
      "metadata": {
        "id": "4-6MgGjdPt8B"
      },
      "execution_count": 8,
      "outputs": []
    },
    {
      "cell_type": "markdown",
      "source": [
        "We remove the obsolete id column from the label data, and we shift the values to range from 0 to 2 rather than 1 to 3. "
      ],
      "metadata": {
        "id": "LWXk3Yvep8vI"
      }
    },
    {
      "cell_type": "code",
      "source": [
        "# remove id column from y_train, shift values by 1\n",
        "\n",
        "y_train = y_train_raw.drop(columns='id')\n",
        "y_train = y_train-1"
      ],
      "metadata": {
        "id": "9amNaG8PRdOj"
      },
      "execution_count": 9,
      "outputs": []
    },
    {
      "cell_type": "markdown",
      "source": [
        "Checking if all NaN values were removed."
      ],
      "metadata": {
        "id": "8lo71U5WqKZF"
      }
    },
    {
      "cell_type": "code",
      "source": [
        "print(np.argwhere(np.isnan(x_train)),np.argwhere(np.isnan(x_test))) #no NaNs left"
      ],
      "metadata": {
        "colab": {
          "base_uri": "https://localhost:8080/"
        },
        "id": "xReUjmq6SEYZ",
        "outputId": "1808d80f-a7e3-40b1-b411-5140dd217924"
      },
      "execution_count": 10,
      "outputs": [
        {
          "output_type": "stream",
          "name": "stdout",
          "text": [
            "[] []\n"
          ]
        }
      ]
    },
    {
      "cell_type": "markdown",
      "source": [
        "Looking at the properties of measured data, seeing as the range of values is so large and the mean and median rather far apart, it will be necessary to examine the data in more detail."
      ],
      "metadata": {
        "id": "SrUJ1L5PqUPY"
      }
    },
    {
      "cell_type": "code",
      "source": [
        "print(f'Maximum:{x_train.max()}, Minimum: {x_train.min()}, Mean: {x_train.mean()}, Median: {np.median(x_train)}')\n",
        "print(np.where(x_train == x_train.max()))"
      ],
      "metadata": {
        "colab": {
          "base_uri": "https://localhost:8080/"
        },
        "id": "pdz9v0KcQjyN",
        "outputId": "bb3a01e2-04ae-4ce6-f1e8-178ae66a4880"
      },
      "execution_count": 11,
      "outputs": [
        {
          "output_type": "stream",
          "name": "stdout",
          "text": [
            "Maximum:43007.0, Minimum: 0.017239, Mean: 103.46863690023464, Median: 68.243\n",
            "(array([3256]), array([21]), array([21]))\n"
          ]
        }
      ]
    },
    {
      "cell_type": "markdown",
      "source": [
        "## **Trim and scale**"
      ],
      "metadata": {
        "id": "L0CWMWthfIX6"
      }
    },
    {
      "cell_type": "code",
      "source": [
        "x_train_undim = np.reshape(x_train, (1,18578076))\n",
        "\n",
        "plt.figure()\n",
        "plt.yscale('log')\n",
        "plt.hist(x_train_undim.flatten(), bins=1000)\n",
        "\n",
        "plt.show()\n",
        "\n",
        "print(f'Percentage of values below 9000: {len(np.where(x_train <= 9000)[0])/x_train.size*100} %')"
      ],
      "metadata": {
        "colab": {
          "base_uri": "https://localhost:8080/",
          "height": 447
        },
        "id": "SiE4BBZ3QBP7",
        "outputId": "6f50c76b-17d6-4a58-e3ea-f54c160b8f5a"
      },
      "execution_count": 12,
      "outputs": [
        {
          "output_type": "display_data",
          "data": {
            "text/plain": [
              "<Figure size 640x480 with 1 Axes>"
            ],
            "image/png": "[encoded data removed]"
          },
          "metadata": {}
        },
        {
          "output_type": "stream",
          "name": "stdout",
          "text": [
            "Percentage of values below 9000: 99.99046725828875 %\n"
          ]
        }
      ]
    },
    {
      "cell_type": "markdown",
      "source": [
        "Most of the data is below 9000 in value (99.99 %), we should reduce the impact that outliers will have on model performance. We will do this by basically capping the allowed values (we chose 15000 after several tryouts) and redistributing them randomly into the other high range values, so that we don't skew the data towards an overly represented single high value. "
      ],
      "metadata": {
        "id": "oHW-7AhPq28O"
      }
    },
    {
      "cell_type": "code",
      "source": [
        "#x_train[x_train >= 13000] = np.random.randint(12000,13000)\n",
        "#x_test[x_test >= 13000] = np.random.randint(12000,13000)\n",
        "\n",
        "trainOutliers = len(np.where(x_train >= 13000)[0])\n",
        "testOutliers = len(np.where(x_test >= 13000)[0])\n",
        "                   \n",
        "trainReplacements = np.random.uniform(11000,13000,(trainOutliers,))\n",
        "testReplacements = np.random.uniform(11000,13000,(testOutliers,))\n",
        "x_train[x_train >= 13000] = trainReplacements\n",
        "x_test[x_test >= 13000] = testReplacements\n",
        "\n",
        "print(trainOutliers, testOutliers)\n",
        "plt.figure()\n",
        "plt.hist(trainReplacements)"
      ],
      "metadata": {
        "id": "vWKSOGnQWyiw",
        "colab": {
          "base_uri": "https://localhost:8080/",
          "height": 534
        },
        "outputId": "29de11c4-7d2e-43da-df08-63b2ab114d0a"
      },
      "execution_count": 13,
      "outputs": [
        {
          "output_type": "stream",
          "name": "stdout",
          "text": [
            "736 316\n"
          ]
        },
        {
          "output_type": "execute_result",
          "data": {
            "text/plain": [
              "(array([73., 57., 67., 74., 78., 80., 62., 90., 86., 69.]),\n",
              " array([11000.52995426, 11200.29607932, 11400.06220437, 11599.82832943,\n",
              "        11799.59445449, 11999.36057954, 12199.1267046 , 12398.89282966,\n",
              "        12598.65895471, 12798.42507977, 12998.19120483]),\n",
              " <BarContainer object of 10 artists>)"
            ]
          },
          "metadata": {},
          "execution_count": 13
        },
        {
          "output_type": "display_data",
          "data": {
            "text/plain": [
              "<Figure size 640x480 with 1 Axes>"
            ],
            "image/png": "[encoded data removed]"
          },
          "metadata": {}
        }
      ]
    },
    {
      "cell_type": "markdown",
      "source": [
        "Visualise capped data "
      ],
      "metadata": {
        "id": "8CnFZEeWDzs1"
      }
    },
    {
      "cell_type": "code",
      "source": [
        "x_train_undim = np.reshape(x_train, (1,18578076))\n",
        "\n",
        "plt.figure()\n",
        "plt.yscale('log')\n",
        "plt.hist(x_train_undim.flatten(), bins=1000)\n",
        "\n",
        "plt.show()\n",
        "\n",
        "print(len(np.where(x_train <= 15000)[0])/x_train.size*100)"
      ],
      "metadata": {
        "colab": {
          "base_uri": "https://localhost:8080/",
          "height": 447
        },
        "id": "Q4aRPlg6T3KU",
        "outputId": "04b8949d-7f30-4c40-c78d-c84d254c7117"
      },
      "execution_count": 14,
      "outputs": [
        {
          "output_type": "display_data",
          "data": {
            "text/plain": [
              "<Figure size 640x480 with 1 Axes>"
            ],
            "image/png": "[encoded data removed]"
          },
          "metadata": {}
        },
        {
          "output_type": "stream",
          "name": "stdout",
          "text": [
            "100.0\n"
          ]
        }
      ]
    },
    {
      "cell_type": "markdown",
      "source": [
        "Apply scaler, since we still have outliers, we apply a Robust scaler, which is approptiate for this situation"
      ],
      "metadata": {
        "id": "oaUeg1LkD5Ui"
      }
    },
    {
      "cell_type": "code",
      "source": [
        "#final preprocesing, scaling\n",
        "scaler = RobustScaler()\n",
        "\n",
        "x_trainScaled = np.empty([x_train.shape[0],44*51,1])\n",
        "for slice in range(x_train.shape[0]):\n",
        "  x_trainScaled[slice,:,:] = np.reshape(x_train[slice,:,:],[1,44*51,1])\n",
        "  x_trainScaled[slice,:,:] = scaler.fit_transform(x_trainScaled[slice,:,:])\n",
        "\n",
        "x_testScaled = np.empty([x_test.shape[0],44*51,1])\n",
        "for slice in range(x_test.shape[0]):\n",
        "  x_testScaled[slice,:,:] = np.reshape(x_test[slice,:,:],[1,44*51,1])\n",
        "  x_testScaled[slice,:,:] = scaler.fit_transform(x_testScaled[slice,:,:])\n"
      ],
      "metadata": {
        "id": "W4f2yKTSHAYM"
      },
      "execution_count": 15,
      "outputs": []
    },
    {
      "cell_type": "code",
      "source": [
        "scaler.center_"
      ],
      "metadata": {
        "colab": {
          "base_uri": "https://localhost:8080/"
        },
        "id": "WJZrGFkScmOk",
        "outputId": "52cc0202-2b28-4b5d-b046-97262ffc083c"
      },
      "execution_count": 16,
      "outputs": [
        {
          "output_type": "execute_result",
          "data": {
            "text/plain": [
              "array([88.9485])"
            ]
          },
          "metadata": {},
          "execution_count": 16
        }
      ]
    },
    {
      "cell_type": "markdown",
      "source": [
        "Visulaising scaled data and scaled data statistics"
      ],
      "metadata": {
        "id": "VwMR0teKEIs9"
      }
    },
    {
      "cell_type": "code",
      "source": [
        "plt.figure()\n",
        "plt.yscale('log')\n",
        "plt.hist(x_trainScaled.flatten(), bins=1000)\n",
        "\n",
        "plt.show()"
      ],
      "metadata": {
        "colab": {
          "base_uri": "https://localhost:8080/",
          "height": 430
        },
        "id": "Z9r6eF2nYxA0",
        "outputId": "dbfdb1c2-c1ef-4c50-87dc-644603d4487b"
      },
      "execution_count": 17,
      "outputs": [
        {
          "output_type": "display_data",
          "data": {
            "text/plain": [
              "<Figure size 640x480 with 1 Axes>"
            ],
            "image/png": "[encoded data removed]"
          },
          "metadata": {}
        }
      ]
    },
    {
      "cell_type": "code",
      "source": [
        "print(f'Maximum:{x_trainScaled.max()}, Minimum: {x_trainScaled.min()}, Mean: {x_trainScaled.mean()}, Median: {np.median(x_trainScaled)}')"
      ],
      "metadata": {
        "colab": {
          "base_uri": "https://localhost:8080/"
        },
        "id": "02XoSDZnZsiy",
        "outputId": "89ac026a-631a-44aa-984d-345911e2fbd8"
      },
      "execution_count": 18,
      "outputs": [
        {
          "output_type": "stream",
          "name": "stdout",
          "text": [
            "Maximum:196.31616415410386, Minimum: -1.358457483311498, Mean: 0.35423212530735304, Median: 0.0\n"
          ]
        }
      ]
    },
    {
      "cell_type": "code",
      "source": [
        "len(np.where(x_trainScaled <= 120)[0])/x_trainScaled.size*100"
      ],
      "metadata": {
        "colab": {
          "base_uri": "https://localhost:8080/"
        },
        "id": "pNGRb5BCP3ET",
        "outputId": "532983f5-e96e-414d-b935-aeb7c2647bbf"
      },
      "execution_count": 19,
      "outputs": [
        {
          "output_type": "execute_result",
          "data": {
            "text/plain": [
              "99.99731403833206"
            ]
          },
          "metadata": {},
          "execution_count": 19
        }
      ]
    },
    {
      "cell_type": "markdown",
      "source": [
        "### **Reduce extra dimensions**"
      ],
      "metadata": {
        "id": "z28sOt1VVVJZ"
      }
    },
    {
      "cell_type": "code",
      "source": [
        "x_trainScaled = np.squeeze(x_trainScaled)\n",
        "x_testScaled = np.squeeze(x_testScaled)\n",
        "\n",
        "y_train = y_train.to_numpy()\n",
        "y_train = np.squeeze(y_train)\n"
      ],
      "metadata": {
        "id": "xdRmToIVRUh4"
      },
      "execution_count": 20,
      "outputs": []
    },
    {
      "cell_type": "markdown",
      "source": [
        "**undersample largest class, one-hot encoding of labels**"
      ],
      "metadata": {
        "id": "ByTaLl0S2gBu"
      }
    },
    {
      "cell_type": "code",
      "source": [
        "class0ind = np.where(y_train==0)[0]\n",
        "class0indDec = np.random.choice(class0ind, 1500, replace=False) # 1500 unique indices\n",
        "\n",
        "x_trainScaled = np.delete(x_trainScaled, class0indDec, axis=0)\n",
        "y_trainDec = np.delete(y_train, class0indDec, axis=0)\n",
        "\n",
        "y_trainEncoded = to_categorical(y_trainDec, num_classes = 3)"
      ],
      "metadata": {
        "id": "Xd85vGtT2a3P"
      },
      "execution_count": 21,
      "outputs": []
    },
    {
      "cell_type": "markdown",
      "source": [
        "### **Check data**"
      ],
      "metadata": {
        "id": "INPFGiVtbR4P"
      }
    },
    {
      "cell_type": "code",
      "source": [
        "np.unique(y_trainDec, return_counts = True)"
      ],
      "metadata": {
        "colab": {
          "base_uri": "https://localhost:8080/"
        },
        "id": "BcBMwd_Oa6HP",
        "outputId": "ead44e64-7477-42b7-d05e-39c65e88fcb2"
      },
      "execution_count": 22,
      "outputs": [
        {
          "output_type": "execute_result",
          "data": {
            "text/plain": [
              "(array([0, 1, 2]), array([2246, 2207, 2326]))"
            ]
          },
          "metadata": {},
          "execution_count": 22
        }
      ]
    },
    {
      "cell_type": "markdown",
      "source": [
        "# Building the model"
      ],
      "metadata": {
        "id": "U9R8tLZCI0sc"
      }
    },
    {
      "cell_type": "code",
      "source": [
        "model = Sequential()\n",
        "#model = Sequential()\n",
        "#model.add(Flatten(input_shape=(2244,)))      \n",
        "#model.add(Dense(2244, activation='gelu'))\n",
        "#model.add(Dropout(0.2))\n",
        "#model.add(Dense(128, activation='relu'))\n",
        "#model.add(Dropout(0.2))\n",
        "#model.add(Dense(16, activation='gelu'))\n",
        "#model.add(Dense(3, activation='softmax'))\n",
        "\n",
        "\n",
        "#model.add(Flatten(input_shape=(2244,))) \n",
        "#model.add(Dense(3072, activation='gelu')) \n",
        "#model.add(Dense(2244, activation='gelu'))\n",
        "#model.add(Dense(128, activation='gelu')) \n",
        "#model.add(Dense(3, activation='softmax'))\n",
        "\n",
        "model.add(Flatten(input_shape=(2244,)))\n",
        "model.add(Dense(3072, activation='gelu'))\n",
        "model.add(Dropout(0.2))\n",
        "model.add(Dense(128, activation='gelu'))\n",
        "model.add(Dense(64, activation='gelu'))\n",
        "model.add(Dense(3, activation='softmax'))\n",
        "\n",
        "\n",
        "model.summary()"
      ],
      "metadata": {
        "colab": {
          "base_uri": "https://localhost:8080/"
        },
        "id": "M42zcvW8Vnm_",
        "outputId": "7d5fe26f-f7cb-47c7-9fe1-ea503d769c3f"
      },
      "execution_count": 23,
      "outputs": [
        {
          "output_type": "stream",
          "name": "stdout",
          "text": [
            "Model: \"sequential\"\n",
            "_________________________________________________________________\n",
            " Layer (type)                Output Shape              Param #   \n",
            "=================================================================\n",
            " flatten (Flatten)           (None, 2244)              0         \n",
            "                                                                 \n",
            " dense (Dense)               (None, 3072)              6896640   \n",
            "                                                                 \n",
            " dropout (Dropout)           (None, 3072)              0         \n",
            "                                                                 \n",
            " dense_1 (Dense)             (None, 128)               393344    \n",
            "                                                                 \n",
            " dense_2 (Dense)             (None, 64)                8256      \n",
            "                                                                 \n",
            " dense_3 (Dense)             (None, 3)                 195       \n",
            "                                                                 \n",
            "=================================================================\n",
            "Total params: 7,298,435\n",
            "Trainable params: 7,298,435\n",
            "Non-trainable params: 0\n",
            "_________________________________________________________________\n"
          ]
        }
      ]
    },
    {
      "cell_type": "code",
      "source": [
        "#optimizer = SGD(learning_rate = 0.01)\n",
        "#model.compile(loss='categorical_crossentropy', optimizer=optimizer, metrics=['accuracy'])\n",
        "\n",
        "optimizer = Adamax(learning_rate = 0.005, epsilon = 0.2, beta_1=0.9, beta_2=0.999)\n",
        "#optimizer = SGD(learning_rate = 0.001)\n",
        "#optimizer = RMSprop(learning_rate = 0.001)\n",
        "model.compile(loss='categorical_crossentropy', optimizer=optimizer, metrics=['accuracy'])"
      ],
      "metadata": {
        "id": "x_Z8CncoeREo"
      },
      "execution_count": 24,
      "outputs": []
    },
    {
      "cell_type": "code",
      "source": [
        "history = model.fit(x_trainScaled, y_trainEncoded, epochs=40, batch_size=32, validation_split = 0.2)  "
      ],
      "metadata": {
        "colab": {
          "base_uri": "https://localhost:8080/"
        },
        "id": "R95DnOoneZ1p",
        "outputId": "6b5fc94b-c6f1-4b35-c39f-056ae3385631"
      },
      "execution_count": 25,
      "outputs": [
        {
          "output_type": "stream",
          "name": "stdout",
          "text": [
            "Epoch 1/40\n",
            "170/170 [==============================] - 3s 8ms/step - loss: 0.5450 - accuracy: 0.7975 - val_loss: 0.2945 - val_accuracy: 0.9004\n",
            "Epoch 2/40\n",
            "170/170 [==============================] - 1s 6ms/step - loss: 0.1807 - accuracy: 0.9391 - val_loss: 0.1893 - val_accuracy: 0.9292\n",
            "Epoch 3/40\n",
            "170/170 [==============================] - 1s 6ms/step - loss: 0.0982 - accuracy: 0.9707 - val_loss: 0.1644 - val_accuracy: 0.9410\n",
            "Epoch 4/40\n",
            "170/170 [==============================] - 1s 6ms/step - loss: 0.0625 - accuracy: 0.9829 - val_loss: 0.1364 - val_accuracy: 0.9513\n",
            "Epoch 5/40\n",
            "170/170 [==============================] - 1s 5ms/step - loss: 0.0503 - accuracy: 0.9841 - val_loss: 0.1115 - val_accuracy: 0.9602\n",
            "Epoch 6/40\n",
            "170/170 [==============================] - 1s 5ms/step - loss: 0.0292 - accuracy: 0.9919 - val_loss: 0.1266 - val_accuracy: 0.9594\n",
            "Epoch 7/40\n",
            "170/170 [==============================] - 1s 5ms/step - loss: 0.0215 - accuracy: 0.9950 - val_loss: 0.1060 - val_accuracy: 0.9646\n",
            "Epoch 8/40\n",
            "170/170 [==============================] - 1s 5ms/step - loss: 0.0138 - accuracy: 0.9978 - val_loss: 0.0926 - val_accuracy: 0.9690\n",
            "Epoch 9/40\n",
            "170/170 [==============================] - 1s 5ms/step - loss: 0.0074 - accuracy: 0.9989 - val_loss: 0.1091 - val_accuracy: 0.9639\n",
            "Epoch 10/40\n",
            "170/170 [==============================] - 1s 5ms/step - loss: 0.0063 - accuracy: 0.9989 - val_loss: 0.0990 - val_accuracy: 0.9705\n",
            "Epoch 11/40\n",
            "170/170 [==============================] - 1s 5ms/step - loss: 0.0059 - accuracy: 0.9991 - val_loss: 0.1032 - val_accuracy: 0.9676\n",
            "Epoch 12/40\n",
            "170/170 [==============================] - 1s 5ms/step - loss: 0.0053 - accuracy: 0.9987 - val_loss: 0.1312 - val_accuracy: 0.9639\n",
            "Epoch 13/40\n",
            "170/170 [==============================] - 1s 5ms/step - loss: 0.0073 - accuracy: 0.9982 - val_loss: 0.1122 - val_accuracy: 0.9690\n",
            "Epoch 14/40\n",
            "170/170 [==============================] - 1s 5ms/step - loss: 0.0207 - accuracy: 0.9945 - val_loss: 0.1321 - val_accuracy: 0.9624\n",
            "Epoch 15/40\n",
            "170/170 [==============================] - 1s 5ms/step - loss: 0.0121 - accuracy: 0.9967 - val_loss: 0.1148 - val_accuracy: 0.9646\n",
            "Epoch 16/40\n",
            "170/170 [==============================] - 1s 6ms/step - loss: 0.0027 - accuracy: 0.9998 - val_loss: 0.1067 - val_accuracy: 0.9653\n",
            "Epoch 17/40\n",
            "170/170 [==============================] - 1s 6ms/step - loss: 0.0023 - accuracy: 0.9996 - val_loss: 0.1108 - val_accuracy: 0.9668\n",
            "Epoch 18/40\n",
            "170/170 [==============================] - 1s 6ms/step - loss: 0.0013 - accuracy: 1.0000 - val_loss: 0.1035 - val_accuracy: 0.9735\n",
            "Epoch 19/40\n",
            "170/170 [==============================] - 1s 7ms/step - loss: 0.0014 - accuracy: 1.0000 - val_loss: 0.1030 - val_accuracy: 0.9742\n",
            "Epoch 20/40\n",
            "170/170 [==============================] - 1s 5ms/step - loss: 0.0022 - accuracy: 0.9996 - val_loss: 0.1389 - val_accuracy: 0.9624\n",
            "Epoch 21/40\n",
            "170/170 [==============================] - 1s 5ms/step - loss: 0.0018 - accuracy: 0.9998 - val_loss: 0.1219 - val_accuracy: 0.9676\n",
            "Epoch 22/40\n",
            "170/170 [==============================] - 1s 5ms/step - loss: 7.6753e-04 - accuracy: 1.0000 - val_loss: 0.1134 - val_accuracy: 0.9698\n",
            "Epoch 23/40\n",
            "170/170 [==============================] - 1s 5ms/step - loss: 7.2075e-04 - accuracy: 1.0000 - val_loss: 0.1148 - val_accuracy: 0.9690\n",
            "Epoch 24/40\n",
            "170/170 [==============================] - 1s 5ms/step - loss: 7.6317e-04 - accuracy: 1.0000 - val_loss: 0.1071 - val_accuracy: 0.9749\n",
            "Epoch 25/40\n",
            "170/170 [==============================] - 1s 5ms/step - loss: 7.1398e-04 - accuracy: 1.0000 - val_loss: 0.1096 - val_accuracy: 0.9720\n",
            "Epoch 26/40\n",
            "170/170 [==============================] - 1s 5ms/step - loss: 0.0020 - accuracy: 0.9994 - val_loss: 0.1078 - val_accuracy: 0.9712\n",
            "Epoch 27/40\n",
            "170/170 [==============================] - 1s 5ms/step - loss: 7.1048e-04 - accuracy: 1.0000 - val_loss: 0.1168 - val_accuracy: 0.9676\n",
            "Epoch 28/40\n",
            "170/170 [==============================] - 1s 5ms/step - loss: 6.7285e-04 - accuracy: 1.0000 - val_loss: 0.1187 - val_accuracy: 0.9683\n",
            "Epoch 29/40\n",
            "170/170 [==============================] - 1s 5ms/step - loss: 5.8560e-04 - accuracy: 1.0000 - val_loss: 0.1169 - val_accuracy: 0.9646\n",
            "Epoch 30/40\n",
            "170/170 [==============================] - 1s 5ms/step - loss: 5.6461e-04 - accuracy: 1.0000 - val_loss: 0.1137 - val_accuracy: 0.9712\n",
            "Epoch 31/40\n",
            "170/170 [==============================] - 1s 6ms/step - loss: 7.3048e-04 - accuracy: 1.0000 - val_loss: 0.1095 - val_accuracy: 0.9705\n",
            "Epoch 32/40\n",
            "170/170 [==============================] - 1s 6ms/step - loss: 0.0015 - accuracy: 0.9996 - val_loss: 0.1069 - val_accuracy: 0.9705\n",
            "Epoch 33/40\n",
            "170/170 [==============================] - 1s 6ms/step - loss: 5.5037e-04 - accuracy: 1.0000 - val_loss: 0.1109 - val_accuracy: 0.9698\n",
            "Epoch 34/40\n",
            "170/170 [==============================] - 1s 6ms/step - loss: 4.0779e-04 - accuracy: 1.0000 - val_loss: 0.1038 - val_accuracy: 0.9712\n",
            "Epoch 35/40\n",
            "170/170 [==============================] - 1s 6ms/step - loss: 3.5169e-04 - accuracy: 1.0000 - val_loss: 0.1089 - val_accuracy: 0.9698\n",
            "Epoch 36/40\n",
            "170/170 [==============================] - 1s 5ms/step - loss: 2.8620e-04 - accuracy: 1.0000 - val_loss: 0.1086 - val_accuracy: 0.9698\n",
            "Epoch 37/40\n",
            "170/170 [==============================] - 1s 5ms/step - loss: 5.6134e-04 - accuracy: 1.0000 - val_loss: 0.1166 - val_accuracy: 0.9720\n",
            "Epoch 38/40\n",
            "170/170 [==============================] - 1s 5ms/step - loss: 0.0142 - accuracy: 0.9952 - val_loss: 0.1138 - val_accuracy: 0.9676\n",
            "Epoch 39/40\n",
            "170/170 [==============================] - 1s 5ms/step - loss: 6.4339e-04 - accuracy: 1.0000 - val_loss: 0.1040 - val_accuracy: 0.9712\n",
            "Epoch 40/40\n",
            "170/170 [==============================] - 1s 5ms/step - loss: 0.0019 - accuracy: 0.9993 - val_loss: 0.1035 - val_accuracy: 0.9712\n"
          ]
        }
      ]
    },
    {
      "cell_type": "code",
      "source": [
        "plt.figure()\n",
        "plt.plot(history.history['loss'])\n",
        "plt.plot(history.history['val_loss'])"
      ],
      "metadata": {
        "colab": {
          "base_uri": "https://localhost:8080/",
          "height": 447
        },
        "id": "cIcIZjxyegXR",
        "outputId": "2f282765-2245-48b9-e4e1-32dd1c130c93"
      },
      "execution_count": 26,
      "outputs": [
        {
          "output_type": "execute_result",
          "data": {
            "text/plain": [
              "[<matplotlib.lines.Line2D at 0x7ff6c9be1c40>]"
            ]
          },
          "metadata": {},
          "execution_count": 26
        },
        {
          "output_type": "display_data",
          "data": {
            "text/plain": [
              "<Figure size 640x480 with 1 Axes>"
            ],
            "image/png": "[encoded data removed]"
          },
          "metadata": {}
        }
      ]
    },
    {
      "cell_type": "code",
      "source": [
        "plt.figure()\n",
        "plt.plot(history.history['accuracy'])\n",
        "plt.plot(history.history['val_accuracy'])"
      ],
      "metadata": {
        "colab": {
          "base_uri": "https://localhost:8080/",
          "height": 447
        },
        "id": "UfoB8k4Fej1a",
        "outputId": "774245ae-9ddb-4f82-a6ed-25f01a606bf9"
      },
      "execution_count": 27,
      "outputs": [
        {
          "output_type": "execute_result",
          "data": {
            "text/plain": [
              "[<matplotlib.lines.Line2D at 0x7ff6c9bb01f0>]"
            ]
          },
          "metadata": {},
          "execution_count": 27
        },
        {
          "output_type": "display_data",
          "data": {
            "text/plain": [
              "<Figure size 640x480 with 1 Axes>"
            ],
            "image/png": "[encoded data removed]"
          },
          "metadata": {}
        }
      ]
    },
    {
      "cell_type": "code",
      "source": [
        "score = model.evaluate(x_trainScaled, y_trainEncoded, verbose=0)\n",
        "print('Training loss:', score[0])\n",
        "print(f'Training accuracy: {score[1]*100} %')"
      ],
      "metadata": {
        "colab": {
          "base_uri": "https://localhost:8080/"
        },
        "id": "tPV3XFPzepe8",
        "outputId": "eef29346-7e54-4c21-d91a-a8480561271e"
      },
      "execution_count": 28,
      "outputs": [
        {
          "output_type": "stream",
          "name": "stdout",
          "text": [
            "Training loss: 0.02082914300262928\n",
            "Training accuracy: 99.42469596862793 %\n"
          ]
        }
      ]
    },
    {
      "cell_type": "markdown",
      "source": [
        "# **Outputing data**"
      ],
      "metadata": {
        "id": "a2fbiRwdjj03"
      }
    },
    {
      "cell_type": "code",
      "source": [
        "predictions = model.predict(x_testScaled)\n",
        "predictions = pd.DataFrame(predictions)\n",
        "predictions = predictions.idxmax(axis=1)+1\n",
        "predictions = pd.DataFrame(predictions, columns=['target'])\n",
        "predictions.insert(0,'id',np.arange(len(predictions)))"
      ],
      "metadata": {
        "colab": {
          "base_uri": "https://localhost:8080/"
        },
        "id": "N0ZAZWkijooV",
        "outputId": "0ad6df50-a860-4fab-e01d-dee9b9153653"
      },
      "execution_count": 29,
      "outputs": [
        {
          "output_type": "stream",
          "name": "stdout",
          "text": [
            "111/111 [==============================] - 0s 2ms/step\n"
          ]
        }
      ]
    },
    {
      "cell_type": "code",
      "source": [
        "predictions.to_csv('predictions.csv', index=False)"
      ],
      "metadata": {
        "id": "NVDKrR_nmQgM"
      },
      "execution_count": 31,
      "outputs": []
    }
  ]
}